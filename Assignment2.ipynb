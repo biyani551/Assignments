{
 "cells": [
  {
   "cell_type": "markdown",
   "id": "72e17d29-8029-45ab-89a5-723917cfec24",
   "metadata": {},
   "source": [
    "Q1. How do you comment code in Python? What are the different types of comments?"
   ]
  },
  {
   "cell_type": "markdown",
   "id": "4077387d-9f5f-456b-8614-deda39e74baf",
   "metadata": {},
   "source": [
    "In python we can add comments to our code to provide explainations for the code which can not be executed with the code. \n",
    "Basically there are 2 types of comments:-\n",
    "1). '#' commment. It is a single line comment.\n",
    "2). ' \"\"\" ' comments. It is a multi line comment.\n",
    "Below are the examples:-"
   ]
  },
  {
   "cell_type": "code",
   "execution_count": 1,
   "id": "4aa357fd-feec-4313-8253-f9643dd4a3c9",
   "metadata": {},
   "outputs": [],
   "source": [
    "# this type of comment is used for single line comment."
   ]
  },
  {
   "cell_type": "code",
   "execution_count": null,
   "id": "373af2fc-739c-4b7d-9282-b8e8135ec8ff",
   "metadata": {},
   "outputs": [],
   "source": [
    "\"\"\"\n",
    "This is a multi-line comment in Python.\n",
    "It spans across multiple lines.\n",
    "These lines are treated as a string but not assigned to any variable, so they are effectively comments.\n",
    "\"\"\""
   ]
  },
  {
   "cell_type": "markdown",
   "id": "0fcc2cfe-7031-4884-b4f0-4d01f088927a",
   "metadata": {},
   "source": [
    "Q2. What are variables in Python? How do you declare and assign values to variables?"
   ]
  },
  {
   "cell_type": "raw",
   "id": "ff852b99-d7e3-44ad-9488-a94992eb262d",
   "metadata": {},
   "source": [
    "In python, variables are used to store the data. It is an essential memory locations which holds the data and that variable is used throughout the code/program. Variables are those in which we can assign some values. The values could be of any data types such as integer,float,string etc.\n",
    "Below is an example for declaring the variables in a python program:-"
   ]
  },
  {
   "cell_type": "code",
   "execution_count": 4,
   "id": "faea022d-9c22-46d9-9d46-a4c528a396bd",
   "metadata": {},
   "outputs": [
    {
     "name": "stdout",
     "output_type": "stream",
     "text": [
      "Ayush\n",
      "20\n",
      "True\n",
      "3.14\n"
     ]
    }
   ],
   "source": [
    "name = \"Ayush\"\n",
    "age = 20\n",
    "is_studdent = True\n",
    "pi_value = 3.14\n",
    "\n",
    "print(\"Ayush\")\n",
    "print(20)\n",
    "print(True)\n",
    "print(3.14)\n"
   ]
  },
  {
   "cell_type": "markdown",
   "id": "8c3563f0-521b-4d48-96b1-16f551fad330",
   "metadata": {},
   "source": [
    "Q3. How do you convert one data type to another in Python?"
   ]
  },
  {
   "cell_type": "raw",
   "id": "a2fb028d-f7bb-4eb2-a008-c754c6950643",
   "metadata": {},
   "source": [
    "In python we can convert one data type to another using type conversion functions or constructors.\n",
    "Below are some examples of data type conversion:-"
   ]
  },
  {
   "cell_type": "code",
   "execution_count": 5,
   "id": "50d1cbeb-fbc9-4bf8-8ee1-b16d6c4eede5",
   "metadata": {},
   "outputs": [
    {
     "name": "stdout",
     "output_type": "stream",
     "text": [
      "42\n"
     ]
    }
   ],
   "source": [
    "num_str = \"42\"\n",
    "num_int = int(num_str)\n",
    "print(num_int)"
   ]
  },
  {
   "cell_type": "code",
   "execution_count": 6,
   "id": "686aa29b-59f3-4b98-b871-0543078c6cef",
   "metadata": {},
   "outputs": [
    {
     "name": "stdout",
     "output_type": "stream",
     "text": [
      "3.14\n"
     ]
    }
   ],
   "source": [
    "pi_str = \"3.14\"\n",
    "pi_float = float(pi_str)\n",
    "print(pi_float)"
   ]
  },
  {
   "cell_type": "code",
   "execution_count": 7,
   "id": "33d7ef67-2b57-4dc9-8b3e-5cea688b14ed",
   "metadata": {},
   "outputs": [
    {
     "name": "stdout",
     "output_type": "stream",
     "text": [
      "42\n"
     ]
    }
   ],
   "source": [
    "number = 42\n",
    "number_str = str(number)\n",
    "print(number_str)"
   ]
  },
  {
   "cell_type": "code",
   "execution_count": 8,
   "id": "68138554-7541-42b6-b626-e8a4c1cbd9fe",
   "metadata": {},
   "outputs": [
    {
     "name": "stdout",
     "output_type": "stream",
     "text": [
      "True\n"
     ]
    }
   ],
   "source": [
    "num = 42\n",
    "bool_value = bool(num)\n",
    "print(bool_value)"
   ]
  },
  {
   "cell_type": "markdown",
   "id": "208b4a38-d8e8-4876-b46b-23e96c0a05d6",
   "metadata": {},
   "source": [
    "Q4. How do you write and execute a Python script from the command line?"
   ]
  },
  {
   "cell_type": "raw",
   "id": "c2debb3b-765f-4c7f-9a7f-9e46352d888a",
   "metadata": {},
   "source": [
    "Firstly we have to open any text editor where we can write the python script.Then we have to write our python code and rename the file in the .py format. Then open the command line and change the directory where we have coded our python code. And hence we can execute our code."
   ]
  },
  {
   "cell_type": "markdown",
   "id": "58bd3344-71f4-4bb1-a301-a0f8f814dbe6",
   "metadata": {},
   "source": [
    "Q5. Given a list my_list = [1, 2, 3, 4, 5], write the code to slice the list and obtain the sub-list [2, 3]."
   ]
  },
  {
   "cell_type": "code",
   "execution_count": 2,
   "id": "32df277a-b549-4315-b90c-86679921b1c3",
   "metadata": {},
   "outputs": [
    {
     "name": "stdout",
     "output_type": "stream",
     "text": [
      "[2, 3]\n"
     ]
    }
   ],
   "source": [
    "my_list = [1,2,3,4,5]\n",
    "sub_list = my_list[1:3]\n",
    "print(sub_list)"
   ]
  },
  {
   "cell_type": "markdown",
   "id": "617f3a17-5c5a-4552-82a5-8991e5bedd11",
   "metadata": {},
   "source": [
    "Q6. What is a complex number in mathematics, and how is it represented in Python?"
   ]
  },
  {
   "cell_type": "raw",
   "id": "5ba12512-0284-4177-a830-cf85c79acf25",
   "metadata": {},
   "source": [
    "Complex numbers are the numbers which consists or we can say which are the combination of real and the imaginary numbers. The imaginary numbers in mathematics are represented by 'i' which is called as iota. \n",
    "In python, the imaginary number iota  is defined by 'j'.\n",
    "Below is the representation of complex number in python:-"
   ]
  },
  {
   "cell_type": "code",
   "execution_count": 3,
   "id": "9b08a325-b636-44a2-9afe-e9a4c6e3fa8c",
   "metadata": {},
   "outputs": [],
   "source": [
    "#representation of complex number\n",
    "a = 7+5j"
   ]
  },
  {
   "cell_type": "code",
   "execution_count": 6,
   "id": "4bb2ca2c-3611-4c8c-b0d2-81c632c9ecf5",
   "metadata": {},
   "outputs": [
    {
     "data": {
      "text/plain": [
       "7.0"
      ]
     },
     "execution_count": 6,
     "metadata": {},
     "output_type": "execute_result"
    }
   ],
   "source": [
    "#real number\n",
    "a.real"
   ]
  },
  {
   "cell_type": "code",
   "execution_count": 7,
   "id": "5afdfd2c-e222-4628-9d02-1ca55b03d1d2",
   "metadata": {},
   "outputs": [
    {
     "data": {
      "text/plain": [
       "5.0"
      ]
     },
     "execution_count": 7,
     "metadata": {},
     "output_type": "execute_result"
    }
   ],
   "source": [
    "#imaginary number\n",
    "a.imag"
   ]
  },
  {
   "cell_type": "markdown",
   "id": "4de8bed5-1ff5-4f31-9a67-29967e711bb6",
   "metadata": {},
   "source": [
    "Q7. What is the correct way to declare a variable named age and assign the value 25 to it?"
   ]
  },
  {
   "cell_type": "code",
   "execution_count": 9,
   "id": "e89af74d-65c1-4df4-b97e-4c4f13a7c188",
   "metadata": {},
   "outputs": [
    {
     "name": "stdout",
     "output_type": "stream",
     "text": [
      "25\n"
     ]
    }
   ],
   "source": [
    "age = 25\n",
    "print(age)"
   ]
  },
  {
   "cell_type": "markdown",
   "id": "ce2c1a54-608b-4fde-b8bc-4d2baa4adab0",
   "metadata": {},
   "source": [
    "Q8. Declare a variable named price and assign the value 9.99 to it. What data type does this variable\n",
    "belong to?"
   ]
  },
  {
   "cell_type": "code",
   "execution_count": 10,
   "id": "4ca199db-b3ef-464a-9552-182490f4bc2b",
   "metadata": {},
   "outputs": [
    {
     "data": {
      "text/plain": [
       "float"
      ]
     },
     "execution_count": 10,
     "metadata": {},
     "output_type": "execute_result"
    }
   ],
   "source": [
    "price = 9.99\n",
    "type(price)"
   ]
  },
  {
   "cell_type": "markdown",
   "id": "49697db2-2100-43c9-85ef-72e94aa651b8",
   "metadata": {},
   "source": [
    "Q9. Create a variable named name and assign your full name to it as a string. How would you print the\n",
    "value of this variable?"
   ]
  },
  {
   "cell_type": "code",
   "execution_count": 15,
   "id": "ebbbd328-6a66-4faa-a658-bdebec2587d2",
   "metadata": {},
   "outputs": [
    {
     "name": "stdout",
     "output_type": "stream",
     "text": [
      "Ayush_Vinod_Biyani\n"
     ]
    }
   ],
   "source": [
    "name = str(\"Ayush_Vinod_Biyani\")\n",
    "print(name)"
   ]
  },
  {
   "cell_type": "markdown",
   "id": "8282a7bf-8ad1-40d3-adb0-58a315612a78",
   "metadata": {},
   "source": [
    "Q10. Given the string \"Hello, World!\", extract the substring \"World\"."
   ]
  },
  {
   "cell_type": "code",
   "execution_count": 18,
   "id": "c8bed7d0-6471-4779-9629-5f5020039ba1",
   "metadata": {},
   "outputs": [
    {
     "name": "stdout",
     "output_type": "stream",
     "text": [
      "World\n"
     ]
    }
   ],
   "source": [
    "my_string = \"Hello, World!\"\n",
    "substring = my_string[7:12]\n",
    "print(substring)\n"
   ]
  },
  {
   "cell_type": "markdown",
   "id": "6d19c432-8a46-4ff7-a387-f8bcc3573b5a",
   "metadata": {},
   "source": [
    "Q11. Create a variable named \"is_student\" and assign it a boolean value indicating whether you are\n",
    "currently a student or not."
   ]
  },
  {
   "cell_type": "code",
   "execution_count": 20,
   "id": "af4fb592-e3cb-4f09-a715-2429b705a5ea",
   "metadata": {},
   "outputs": [
    {
     "name": "stdout",
     "output_type": "stream",
     "text": [
      "True\n"
     ]
    }
   ],
   "source": [
    "is_student = True\n",
    "print(is_student)"
   ]
  },
  {
   "cell_type": "code",
   "execution_count": null,
   "id": "cac207c1-1a94-4fc3-8e73-752d79f1253e",
   "metadata": {},
   "outputs": [],
   "source": []
  }
 ],
 "metadata": {
  "kernelspec": {
   "display_name": "Python 3 (ipykernel)",
   "language": "python",
   "name": "python3"
  },
  "language_info": {
   "codemirror_mode": {
    "name": "ipython",
    "version": 3
   },
   "file_extension": ".py",
   "mimetype": "text/x-python",
   "name": "python",
   "nbconvert_exporter": "python",
   "pygments_lexer": "ipython3",
   "version": "3.10.8"
  }
 },
 "nbformat": 4,
 "nbformat_minor": 5
}
