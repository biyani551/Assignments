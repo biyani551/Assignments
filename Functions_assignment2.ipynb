{
  "nbformat": 4,
  "nbformat_minor": 0,
  "metadata": {
    "colab": {
      "provenance": []
    },
    "kernelspec": {
      "name": "python3",
      "display_name": "Python 3"
    },
    "language_info": {
      "name": "python"
    }
  },
  "cells": [
    {
      "cell_type": "markdown",
      "source": [
        "Q1. Create a python program to sort the given list of tuples based on integer value using a\n",
        "lambda function.\n",
        "[('Sachin Tendulkar', 34357), ('Ricky Ponting', 27483), ('Jack Kallis', 25534), ('Virat Kohli', 24936)]"
      ],
      "metadata": {
        "id": "v8ui132Zx0oV"
      }
    },
    {
      "cell_type": "code",
      "source": [
        "# Given list of tuples\n",
        "data = [('Sachin Tendulkar', 34357), ('Ricky Ponting', 27483), ('Jack Kallis', 25534), ('Virat Kohli', 24936)]\n",
        "\n",
        "# Sort the list of tuples based on the integer value using a lambda function\n",
        "sorted_data = sorted(data, key=lambda x: x[1])\n",
        "\n",
        "# Print the sorted list\n",
        "for player, runs in sorted_data:\n",
        "    print(f\"{player}: {runs} runs\")\n"
      ],
      "metadata": {
        "colab": {
          "base_uri": "https://localhost:8080/"
        },
        "id": "lEzQkzD0x5CR",
        "outputId": "85fd2c0f-e17f-4631-87a4-88e2fcd57e9c"
      },
      "execution_count": 1,
      "outputs": [
        {
          "output_type": "stream",
          "name": "stdout",
          "text": [
            "Virat Kohli: 24936 runs\n",
            "Jack Kallis: 25534 runs\n",
            "Ricky Ponting: 27483 runs\n",
            "Sachin Tendulkar: 34357 runs\n"
          ]
        }
      ]
    },
    {
      "cell_type": "markdown",
      "source": [
        "Q2. Write a Python Program to find the squares of all the numbers in the given list of integers using\n",
        "lambda and map functions.\n",
        "[1, 2, 3, 4, 5, 6, 7, 8, 9, 10]"
      ],
      "metadata": {
        "id": "Y9LtyuoEyVto"
      }
    },
    {
      "cell_type": "code",
      "source": [
        "# Given list of integers\n",
        "numbers = [1, 2, 3, 4, 5, 6, 7, 8, 9, 10]\n",
        "\n",
        "# Use lambda and map to find the squares of all numbers\n",
        "squares = list(map(lambda x: x**2, numbers))\n",
        "\n",
        "# Print the result\n",
        "print(\"Original List:\", numbers)\n",
        "print(\"Squares:\", squares)\n"
      ],
      "metadata": {
        "colab": {
          "base_uri": "https://localhost:8080/"
        },
        "id": "T21qQyeqyY-8",
        "outputId": "084f8b86-c40d-4195-9806-08014fab21c4"
      },
      "execution_count": 2,
      "outputs": [
        {
          "output_type": "stream",
          "name": "stdout",
          "text": [
            "Original List: [1, 2, 3, 4, 5, 6, 7, 8, 9, 10]\n",
            "Squares: [1, 4, 9, 16, 25, 36, 49, 64, 81, 100]\n"
          ]
        }
      ]
    },
    {
      "cell_type": "markdown",
      "source": [
        "Q3. Write a python program to convert the given list of integers into a tuple of strings. Use map and\n",
        "lambda functions\n",
        "Given String: [1, 2, 3, 4, 5, 6, 7, 8, 9, 10]\n",
        "Expected output: ('1', '2', '3', '4', '5', '6', '7', '8', '9', '10')"
      ],
      "metadata": {
        "id": "XosnGWHNyfwZ"
      }
    },
    {
      "cell_type": "code",
      "source": [
        "# Given list of integers\n",
        "numbers = [1, 2, 3, 4, 5, 6, 7, 8, 9, 10]\n",
        "\n",
        "# Use lambda and map to convert each integer to a string\n",
        "string_tuple = tuple(map(lambda x: str(x), numbers))\n",
        "\n",
        "# Print the result\n",
        "print(\"Original List:\", numbers)\n",
        "print(\"Converted Tuple:\", string_tuple)\n"
      ],
      "metadata": {
        "colab": {
          "base_uri": "https://localhost:8080/"
        },
        "id": "HwX0Ma6KyiYP",
        "outputId": "8042f1e0-f222-41e4-cb3d-ab2916699935"
      },
      "execution_count": 3,
      "outputs": [
        {
          "output_type": "stream",
          "name": "stdout",
          "text": [
            "Original List: [1, 2, 3, 4, 5, 6, 7, 8, 9, 10]\n",
            "Converted Tuple: ('1', '2', '3', '4', '5', '6', '7', '8', '9', '10')\n"
          ]
        }
      ]
    },
    {
      "cell_type": "markdown",
      "source": [
        "Q4. Write a python program using reduce function to compute the product of a list containing numbers\n",
        "from 1 to 25."
      ],
      "metadata": {
        "id": "RCXTtXqRyogA"
      }
    },
    {
      "cell_type": "code",
      "source": [
        "from functools import reduce\n",
        "\n",
        "# Generate a list of numbers from 1 to 25\n",
        "numbers = list(range(1, 26))\n",
        "\n",
        "# Use reduce to compute the product of the list\n",
        "product = reduce(lambda x, y: x * y, numbers)\n",
        "\n",
        "# Print the result\n",
        "print(\"List of numbers:\", numbers)\n",
        "print(\"Product:\", product)\n"
      ],
      "metadata": {
        "colab": {
          "base_uri": "https://localhost:8080/"
        },
        "id": "WxTPW9_iyqPx",
        "outputId": "d9172ce0-cfec-45b7-a1be-fabf97241b3e"
      },
      "execution_count": 4,
      "outputs": [
        {
          "output_type": "stream",
          "name": "stdout",
          "text": [
            "List of numbers: [1, 2, 3, 4, 5, 6, 7, 8, 9, 10, 11, 12, 13, 14, 15, 16, 17, 18, 19, 20, 21, 22, 23, 24, 25]\n",
            "Product: 15511210043330985984000000\n"
          ]
        }
      ]
    },
    {
      "cell_type": "markdown",
      "source": [
        "Q5. Write a python program to filter the numbers in a given list that are divisible by 2 and 3 using the\n",
        "filter function.\n",
        "[2, 3, 6, 9, 27, 60, 90, 120, 55, 46]"
      ],
      "metadata": {
        "id": "xHh-D3lQyyOp"
      }
    },
    {
      "cell_type": "code",
      "source": [
        "# Given list of numbers\n",
        "numbers = [2, 3, 6, 9, 27, 60, 90, 120, 55, 46]\n",
        "\n",
        "# Use filter and lambda to filter numbers divisible by both 2 and 3\n",
        "filtered_numbers = list(filter(lambda x: x % 2 == 0 and x % 3 == 0, numbers))\n",
        "\n",
        "# Print the result\n",
        "print(\"Original List:\", numbers)\n",
        "print(\"Filtered Numbers (divisible by 2 and 3):\", filtered_numbers)\n"
      ],
      "metadata": {
        "colab": {
          "base_uri": "https://localhost:8080/"
        },
        "id": "AtHmeYEsyyyo",
        "outputId": "92014735-b71c-4174-8b4d-f6b14ab142e8"
      },
      "execution_count": 5,
      "outputs": [
        {
          "output_type": "stream",
          "name": "stdout",
          "text": [
            "Original List: [2, 3, 6, 9, 27, 60, 90, 120, 55, 46]\n",
            "Filtered Numbers (divisible by 2 and 3): [6, 60, 90, 120]\n"
          ]
        }
      ]
    },
    {
      "cell_type": "markdown",
      "source": [
        "Q6. Write a python program to find palindromes in the given list of strings using lambda and filter\n",
        "function.\n",
        "['python', 'php', 'aba', 'radar', 'level']"
      ],
      "metadata": {
        "id": "O8Pm0uhly4_P"
      }
    },
    {
      "cell_type": "code",
      "source": [
        "# Given list of strings\n",
        "strings = ['python', 'php', 'aba', 'radar', 'level']\n",
        "\n",
        "# Use filter and lambda to find palindromes\n",
        "palindromes = list(filter(lambda x: x == x[::-1], strings))\n",
        "\n",
        "# Print the result\n",
        "print(\"Original List:\", strings)\n",
        "print(\"Palindromes:\", palindromes)\n"
      ],
      "metadata": {
        "colab": {
          "base_uri": "https://localhost:8080/"
        },
        "id": "A-GsYQxby7cH",
        "outputId": "1d7e2232-618d-4b9e-a5cc-ae993d31fa70"
      },
      "execution_count": 6,
      "outputs": [
        {
          "output_type": "stream",
          "name": "stdout",
          "text": [
            "Original List: ['python', 'php', 'aba', 'radar', 'level']\n",
            "Palindromes: ['php', 'aba', 'radar', 'level']\n"
          ]
        }
      ]
    }
  ]
}